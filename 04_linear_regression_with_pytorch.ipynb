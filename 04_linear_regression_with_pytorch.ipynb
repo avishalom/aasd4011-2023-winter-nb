{
 "cells": [
  {
   "attachments": {},
   "cell_type": "markdown",
   "metadata": {},
   "source": [
    "In this notebook we are workiing on the same linear regression problem as before, and with the same input data, but this time, we are going to utilize PyTorch support.\n",
    "The key takeaways are Technical:\n",
    "1. Get familiar with the abstractions that PyTorch provide: ... \n"
   ]
  },
  {
   "cell_type": "code",
   "execution_count": 1,
   "metadata": {
    "vscode": {
     "languageId": "python"
    }
   },
   "outputs": [],
   "source": [
    "import torch\n",
    "import torch.optim as optim\n",
    "import matplotlib.pyplot as plt\n",
    "import helpers as h\n",
    "from math import floor, ceil"
   ]
  },
  {
   "cell_type": "code",
   "execution_count": 2,
   "metadata": {
    "vscode": {
     "languageId": "python"
    }
   },
   "outputs": [
    {
     "data": {
      "text/plain": [
       "<torch._C.Generator at 0x21943081890>"
      ]
     },
     "execution_count": 2,
     "metadata": {},
     "output_type": "execute_result"
    }
   ],
   "source": [
    "torch.manual_seed(42)"
   ]
  },
  {
   "attachments": {},
   "cell_type": "markdown",
   "metadata": {},
   "source": [
    "### Setting the Data"
   ]
  },
  {
   "cell_type": "code",
   "execution_count": 3,
   "metadata": {
    "vscode": {
     "languageId": "python"
    }
   },
   "outputs": [],
   "source": [
    "NUMBER_OF_DATA_POINTS = 4\n",
    "X_RANGE = {\n",
    "    'min': 0,\n",
    "    'max': 2\n",
    "}\n",
    "SLOPE = 3\n",
    "INTERCEPT = 4\n",
    "NOISE_RANGE = 1.5\n",
    "m = NUMBER_OF_DATA_POINTS  # number of instances (the number of data-points)\n",
    "\n",
    "def generate_data(\n",
    "    x_range:dict[str, str]=X_RANGE,\n",
    "    number_of_data_points:int=NUMBER_OF_DATA_POINTS,\n",
    "    slope:float=SLOPE,\n",
    "    intercept:float=INTERCEPT,\n",
    "    noise_range:float=NOISE_RANGE\n",
    "    ) -> tuple[torch.Tensor, torch.Tensor]:\n",
    "    \"\"\"\n",
    "    Generates data for linear regression.\n",
    "    \"\"\"\n",
    "    range = X_RANGE['max'] - X_RANGE['min']\n",
    "    X = x_range['min'] + (range * torch.rand(size=(number_of_data_points, 1)))  # randomly-generated x-values, taken from a uniform distribution within `x_range`\n",
    "    y = intercept + (slope * X) + (((torch.rand(size=(number_of_data_points, 1)) - 0.5) * 2) * noise_range)  # y-values with uniformaliy distributed noise added\n",
    "    return X, y\n",
    "\n",
    "def calculate_y_range(\n",
    "    x_range:dict[str, str]=X_RANGE,\n",
    "    slope:float=SLOPE,\n",
    "    intercept:float=INTERCEPT,\n",
    "    noise_range:float=NOISE_RANGE,\n",
    "    ) -> float:\n",
    "    \"\"\"\n",
    "    Calculates the maximum y-value for a given x-range, taking into account the maximum noise.\n",
    "    \"\"\"\n",
    "    y_range = {}\n",
    "    if slope >= 0:\n",
    "        y_range['min'] = intercept + (slope * x_range['min']) - noise_range\n",
    "        y_range['max'] = intercept + (slope * x_range['max']) + noise_range\n",
    "    elif slope < 0:\n",
    "        y_range['min'] = intercept + (slope * x_range['min']) + noise_range\n",
    "        y_range['max'] = intercept + (slope * x_range['max']) - noise_range\n",
    "    return y_range\n",
    "\n",
    "X, y = generate_data()\n",
    "y_range = calculate_y_range()"
   ]
  },
  {
   "cell_type": "code",
   "execution_count": 4,
   "metadata": {
    "vscode": {
     "languageId": "python"
    }
   },
   "outputs": [
    {
     "name": "stdout",
     "output_type": "stream",
     "text": [
      "Tensor       tensor([[1.7645],\n",
      "        [1.8300],\n",
      "        [0.7657],\n",
      "        [1.9186]])\n",
      "Dimension    2\n",
      "Shape        (4, 1)\n"
     ]
    }
   ],
   "source": [
    "h.print_tensor_info(X, fields=['Tensor', 'Dimension', 'Shape'])"
   ]
  },
  {
   "attachments": {},
   "cell_type": "markdown",
   "metadata": {},
   "source": [
    "The many PyTorch (and Tensorflow) functions expect their input to be in the shape of (batch_size, features). Note that above `X` was defined accordingly. The number of data points (also called instances), is generally always in the 0th dimension. "
   ]
  },
  {
   "cell_type": "code",
   "execution_count": 5,
   "metadata": {
    "vscode": {
     "languageId": "python"
    }
   },
   "outputs": [
    {
     "name": "stdout",
     "output_type": "stream",
     "text": [
      "Tensor       tensor([[ 8.9650],\n",
      "        [ 9.7927],\n",
      "        [ 5.5669],\n",
      "        [10.6368]])\n",
      "Dimension    2\n",
      "Shape        (4, 1)\n"
     ]
    }
   ],
   "source": [
    "h.print_tensor_info(y, fields=['Tensor', 'Dimension', 'Shape'])"
   ]
  },
  {
   "cell_type": "code",
   "execution_count": 6,
   "metadata": {
    "vscode": {
     "languageId": "python"
    }
   },
   "outputs": [
    {
     "data": {
      "image/png": "[encoded data removed]",
      "text/plain": [
       "<Figure size 640x480 with 1 Axes>"
      ]
     },
     "metadata": {},
     "output_type": "display_data"
    }
   ],
   "source": [
    "def plot_data_points(X, y):\n",
    "    plt.plot(X, y.detach().numpy(), \"b.\")\n",
    "    plt.xlabel(\"$x_1$\")\n",
    "    plt.ylabel(\"$y$\", rotation=0)\n",
    "    plt.title(\"Data Points (instances)\")\n",
    "    plt.axis([X_RANGE['min'], X_RANGE['max'], floor(y_range['min']), ceil(y_range['max'])])\n",
    "    plt.grid()\n",
    "    plt.show()\n",
    "    return\n",
    "\n",
    "plot_data_points(X, y)"
   ]
  },
  {
   "attachments": {},
   "cell_type": "markdown",
   "metadata": {},
   "source": [
    "### Preprocessing the Data\n",
    "\n",
    "Now we are adding a dummy input parameter, that is equal to one for all instances: $x_0=1$.\n",
    "This will allow us to use a single matrix multiplication for the equation $y =  w_0*1 + w_1*x_1$. It  is the genric form of a 1-dimensional linear equation. \n",
    "\n",
    "(for additional optional context, see: [scikit-learn](https://scikit-learn.org/stable/modules/generated/sklearn.preprocessing.add_dummy_feature.html))"
   ]
  },
  {
   "cell_type": "code",
   "execution_count": 7,
   "metadata": {
    "vscode": {
     "languageId": "python"
    }
   },
   "outputs": [],
   "source": [
    "X_extended = torch.cat((torch.full(X.shape, 1), X), 1)"
   ]
  },
  {
   "cell_type": "code",
   "execution_count": 8,
   "metadata": {
    "vscode": {
     "languageId": "python"
    }
   },
   "outputs": [
    {
     "name": "stdout",
     "output_type": "stream",
     "text": [
      "Tensor       tensor([[1.0000, 1.7645],\n",
      "        [1.0000, 1.8300],\n",
      "        [1.0000, 0.7657],\n",
      "        [1.0000, 1.9186]])\n",
      "Dimension    2\n",
      "Shape        (4, 2)\n"
     ]
    }
   ],
   "source": [
    "h.print_tensor_info(X_extended, fields=['Tensor', 'Dimension', 'Shape'])"
   ]
  },
  {
   "attachments": {},
   "cell_type": "markdown",
   "metadata": {},
   "source": [
    "### Defining the Model\n",
    "With this form of input we can define the parameters: $w_0$ and $w_1$.\n",
    "The equation is $y = w_0*x_0 + w_1*x_1$, or in a matrix notation: $y = X @ W$.\n",
    "It might be helpful to write with PyTorch. "
   ]
  },
  {
   "cell_type": "code",
   "execution_count": 9,
   "metadata": {
    "vscode": {
     "languageId": "python"
    }
   },
   "outputs": [],
   "source": [
    "def model(X, W):\n",
    "    return X @ W"
   ]
  },
  {
   "attachments": {},
   "cell_type": "markdown",
   "metadata": {},
   "source": [
    "Let's assign values for our parameters, $W$"
   ]
  },
  {
   "cell_type": "code",
   "execution_count": 10,
   "metadata": {
    "vscode": {
     "languageId": "python"
    }
   },
   "outputs": [],
   "source": [
    "W = torch.tensor([[1.], [2.]], requires_grad=True)  # usually the parameters are randmoly set\n",
    "# TODO change the above to a random initialization, and see what happens.\n",
    "# Then change it to a zero initialization, and see what happens.\n",
    "# Lastly, try setting it to the mean of the y values, with zero slope."
   ]
  },
  {
   "cell_type": "code",
   "execution_count": 11,
   "metadata": {
    "vscode": {
     "languageId": "python"
    }
   },
   "outputs": [
    {
     "name": "stdout",
     "output_type": "stream",
     "text": [
      "Tensor       tensor([[1.],\n",
      "        [2.]], requires_grad=True)\n",
      "Dimension    2\n",
      "Shape        (2, 1)\n"
     ]
    }
   ],
   "source": [
    "h.print_tensor_info(W, fields=['Tensor', 'Dimension', 'Shape'])"
   ]
  },
  {
   "cell_type": "code",
   "execution_count": 12,
   "metadata": {
    "vscode": {
     "languageId": "python"
    }
   },
   "outputs": [],
   "source": [
    "def predict(X: torch.Tensor, W: torch.Tensor, is_preprocessed=False) -> torch.Tensor:\n",
    "    \"\"\"\n",
    "    Calculates the value of a linear function with parameters W at points X.\n",
    "\n",
    "    X: torch tensor of shape (number_of_points_to_predict, 1)\n",
    "    W: torch tensor of shape (2, 1)\n",
    "    return: torch tensor of shape (number_of_points_to_predict, 1)\n",
    "\n",
    "    \"\"\"\n",
    "    if is_preprocessed:\n",
    "        X_extended = X\n",
    "    else:\n",
    "        X_extended = torch.cat((torch.full(X.shape, 1), X), 1)  # preprocess\n",
    "    y_predicted = model(X_extended, W)\n",
    "    return y_predicted"
   ]
  },
  {
   "cell_type": "code",
   "execution_count": 13,
   "metadata": {
    "vscode": {
     "languageId": "python"
    }
   },
   "outputs": [],
   "source": [
    "y_predicted = predict(X_extended, W, is_preprocessed=True)"
   ]
  },
  {
   "cell_type": "code",
   "execution_count": 14,
   "metadata": {
    "vscode": {
     "languageId": "python"
    }
   },
   "outputs": [
    {
     "name": "stdout",
     "output_type": "stream",
     "text": [
      "Tensor       tensor([[4.5291],\n",
      "        [4.6600],\n",
      "        [2.5315],\n",
      "        [4.8372]], grad_fn=<MmBackward0>)\n",
      "Dimension    2\n",
      "Shape        (4, 1)\n"
     ]
    }
   ],
   "source": [
    "h.print_tensor_info(y_predicted, fields=['Tensor', 'Dimension', 'Shape'])"
   ]
  },
  {
   "cell_type": "code",
   "execution_count": 15,
   "metadata": {
    "vscode": {
     "languageId": "python"
    }
   },
   "outputs": [
    {
     "data": {
      "image/png": "[encoded data removed]",
      "text/plain": [
       "<Figure size 640x480 with 1 Axes>"
      ]
     },
     "metadata": {},
     "output_type": "display_data"
    }
   ],
   "source": [
    "plot_data_points(X, y_predicted)"
   ]
  },
  {
   "attachments": {},
   "cell_type": "markdown",
   "metadata": {},
   "source": [
    "### Setting up a Loss Function\n",
    "We need to define a cost-function - which is the value to be optimized.\n",
    "First let's plot the data points and the predictions on the same graph: "
   ]
  },
  {
   "cell_type": "code",
   "execution_count": 16,
   "metadata": {
    "vscode": {
     "languageId": "python"
    }
   },
   "outputs": [
    {
     "data": {
      "image/png": "[encoded data removed]",
      "text/plain": [
       "<Figure size 640x480 with 1 Axes>"
      ]
     },
     "metadata": {},
     "output_type": "display_data"
    }
   ],
   "source": [
    "# TODO fix - there is no red line on the plot\n",
    "plt.plot(X, y_predicted.detach().numpy(), \"r.\", label=\"Predictions\")\n",
    "plt.plot(X, y, \"b.\", label=\"Data\")\n",
    "\n",
    "plt.xlabel(\"$x_1$\")\n",
    "plt.ylabel(\"$y$\", rotation=0)\n",
    "plt.axis([0, 2, 0, 15])\n",
    "plt.grid()\n",
    "plt.legend(loc=\"upper left\")\n",
    "\n",
    "plt.show()"
   ]
  },
  {
   "attachments": {},
   "cell_type": "markdown",
   "metadata": {},
   "source": [
    "The loss function we are going to use is the squared mean error (SME):\n",
    "\n",
    "$\\frac{1}{m}*\\sum_{n=1} ^{m} (y_{predicted, n} - y_n)^2$"
   ]
  },
  {
   "cell_type": "code",
   "execution_count": 17,
   "metadata": {
    "vscode": {
     "languageId": "python"
    }
   },
   "outputs": [],
   "source": [
    "def loss_fn(y_predicted, y):\n",
    "    sme = ((y_predicted - y) ** 2).mean()  # squared mean error. This is equivalent to: torch.sum((y_predicted - y)**2)/y.numel()\n",
    "    return sme"
   ]
  },
  {
   "cell_type": "code",
   "execution_count": 18,
   "metadata": {
    "vscode": {
     "languageId": "python"
    }
   },
   "outputs": [
    {
     "name": "stdout",
     "output_type": "stream",
     "text": [
      "Squared error per instance:\n",
      "tensor([[19.6771],\n",
      "        [26.3445],\n",
      "        [ 9.2139],\n",
      "        [33.6346]], grad_fn=<PowBackward0>)\n"
     ]
    }
   ],
   "source": [
    "# First, demonstrating the calculation of the loss for each instance:\n",
    "print('Squared error per instance:')\n",
    "print((y_predicted - y)**2)"
   ]
  },
  {
   "cell_type": "code",
   "execution_count": 19,
   "metadata": {
    "vscode": {
     "languageId": "python"
    }
   },
   "outputs": [
    {
     "name": "stdout",
     "output_type": "stream",
     "text": [
      "SME: 22.22\n"
     ]
    }
   ],
   "source": [
    "sme = torch.sum((y_predicted - y)**2)/y.numel()\n",
    "print(f'SME: {sme:.4}')"
   ]
  },
  {
   "cell_type": "code",
   "execution_count": 20,
   "metadata": {
    "vscode": {
     "languageId": "python"
    }
   },
   "outputs": [
    {
     "name": "stdout",
     "output_type": "stream",
     "text": [
      "SME: 22.22\n"
     ]
    }
   ],
   "source": [
    "loss = loss_fn(y_predicted, y)\n",
    "sme = loss\n",
    "print(f'SME: {sme:.4}')"
   ]
  },
  {
   "attachments": {},
   "cell_type": "markdown",
   "metadata": {},
   "source": [
    "### Optimization\n",
    "Instead of defining the gradient ourselves by analytically deriving two partial derivatives as in the previous notebook, here we use PyTorch's automatic gradient calculation. "
   ]
  },
  {
   "cell_type": "code",
   "execution_count": 47,
   "metadata": {
    "vscode": {
     "languageId": "python"
    }
   },
   "outputs": [
    {
     "name": "stdout",
     "output_type": "stream",
     "text": [
      "Learning Rate: 0.05\n"
     ]
    }
   ],
   "source": [
    "lr = 0.02\n",
    "print(f'Learning Rate: {lr:.4}')"
   ]
  },
  {
   "cell_type": "code",
   "execution_count": 48,
   "metadata": {
    "vscode": {
     "languageId": "python"
    }
   },
   "outputs": [],
   "source": [
    "optimizer = optim.SGD([W], lr=lr)"
   ]
  },
  {
   "cell_type": "code",
   "execution_count": 49,
   "metadata": {
    "vscode": {
     "languageId": "python"
    }
   },
   "outputs": [
    {
     "data": {
      "text/plain": [
       "tensor(6.4524, grad_fn=<MeanBackward0>)"
      ]
     },
     "execution_count": 49,
     "metadata": {},
     "output_type": "execute_result"
    }
   ],
   "source": [
    "loss"
   ]
  },
  {
   "cell_type": "code",
   "execution_count": 24,
   "metadata": {
    "vscode": {
     "languageId": "python"
    }
   },
   "outputs": [
    {
     "data": {
      "text/plain": [
       "tensor([[4.5291],\n",
       "        [4.6600],\n",
       "        [2.5315],\n",
       "        [4.8372]], grad_fn=<MmBackward0>)"
      ]
     },
     "execution_count": 24,
     "metadata": {},
     "output_type": "execute_result"
    }
   ],
   "source": [
    "y_predicted"
   ]
  },
  {
   "attachments": {},
   "cell_type": "markdown",
   "metadata": {},
   "source": [
    "Before we run the gradient iteratively, let's run the first iteration, and take a look at the value of the parameters, its graphical reporesentation, "
   ]
  },
  {
   "cell_type": "code",
   "execution_count": 25,
   "metadata": {
    "vscode": {
     "languageId": "python"
    }
   },
   "outputs": [],
   "source": [
    "loss.backward()"
   ]
  },
  {
   "cell_type": "code",
   "execution_count": 26,
   "metadata": {
    "vscode": {
     "languageId": "python"
    }
   },
   "outputs": [
    {
     "data": {
      "text/plain": [
       "tensor(22.2175, grad_fn=<MeanBackward0>)"
      ]
     },
     "execution_count": 26,
     "metadata": {},
     "output_type": "execute_result"
    }
   ],
   "source": [
    "loss"
   ]
  },
  {
   "cell_type": "code",
   "execution_count": 27,
   "metadata": {
    "vscode": {
     "languageId": "python"
    }
   },
   "outputs": [
    {
     "data": {
      "text/plain": [
       "tensor([[1.],\n",
       "        [2.]], requires_grad=True)"
      ]
     },
     "execution_count": 27,
     "metadata": {},
     "output_type": "execute_result"
    }
   ],
   "source": [
    "W"
   ]
  },
  {
   "cell_type": "code",
   "execution_count": 28,
   "metadata": {
    "vscode": {
     "languageId": "python"
    }
   },
   "outputs": [
    {
     "data": {
      "text/plain": [
       "tensor([[ -9.2018],\n",
       "        [-15.3358]])"
      ]
     },
     "execution_count": 28,
     "metadata": {},
     "output_type": "execute_result"
    }
   ],
   "source": [
    "W.grad"
   ]
  },
  {
   "cell_type": "code",
   "execution_count": 29,
   "metadata": {
    "vscode": {
     "languageId": "python"
    }
   },
   "outputs": [],
   "source": [
    "optimizer.step()"
   ]
  },
  {
   "cell_type": "code",
   "execution_count": 30,
   "metadata": {
    "vscode": {
     "languageId": "python"
    }
   },
   "outputs": [
    {
     "name": "stdout",
     "output_type": "stream",
     "text": [
      "tensor([[1.1840],\n",
      "        [2.3067]], requires_grad=True)\n",
      "tensor([[ -9.2018],\n",
      "        [-15.3358]])\n"
     ]
    }
   ],
   "source": [
    "print(W)\n",
    "print(W.grad)"
   ]
  },
  {
   "cell_type": "code",
   "execution_count": 38,
   "metadata": {
    "vscode": {
     "languageId": "python"
    }
   },
   "outputs": [],
   "source": [
    "# If we were to skip the gradient reset to zero, gradients will be accumulated across multiple iterations.\n",
    "# This is not what we want, as we want to calculate the gradient for each iteration seperatly.\n",
    "# Notice that here we redefine y_predicted and loss, try running the code without the redefinition and see what happens.\n",
    "\n",
    "optimizer.zero_grad()\n",
    "y_predicted = model(X_extended, W)  # redefining y_predicted\n",
    "loss = loss_fn(y_predicted, y)  # redefining loss\n",
    "loss.backward()\n",
    "optimizer.step()"
   ]
  },
  {
   "cell_type": "code",
   "execution_count": 39,
   "metadata": {
    "vscode": {
     "languageId": "python"
    }
   },
   "outputs": [
    {
     "name": "stdout",
     "output_type": "stream",
     "text": [
      "tensor([[1.6898],\n",
      "        [3.1488]], requires_grad=True)\n",
      "tensor([[-4.9271],\n",
      "        [-8.1955]])\n"
     ]
    }
   ],
   "source": [
    "print(W)\n",
    "print(W.grad)"
   ]
  },
  {
   "attachments": {},
   "cell_type": "markdown",
   "metadata": {},
   "source": [
    "Now we can run the optimization iteratively. \n",
    "We can save the values of the parameters, and the loss. We can also plot them. "
   ]
  },
  {
   "cell_type": "code",
   "execution_count": 44,
   "metadata": {
    "vscode": {
     "languageId": "python"
    }
   },
   "outputs": [],
   "source": [
    "def training_loop(n_epochs, optimizer, W, X, y):\n",
    "    for epoch in range(1, n_epochs + 1):\n",
    "        y_predicted = model(X, W) \n",
    "        loss = loss_fn(y_predicted, y)\n",
    "        \n",
    "        optimizer.zero_grad()\n",
    "        loss.backward()\n",
    "        optimizer.step()\n",
    "\n",
    "        if epoch % 50 == 0:\n",
    "            print('Epoch %d, Loss %f' % (epoch, float(loss)))\n",
    "            \n",
    "    return W"
   ]
  },
  {
   "cell_type": "code",
   "execution_count": 51,
   "metadata": {
    "vscode": {
     "languageId": "python"
    }
   },
   "outputs": [
    {
     "name": "stdout",
     "output_type": "stream",
     "text": [
      "Epoch 50, Loss 0.139749\n",
      "Epoch 100, Loss 0.139749\n",
      "Epoch 150, Loss 0.139748\n",
      "Epoch 200, Loss 0.139748\n",
      "Epoch 250, Loss 0.139748\n",
      "Epoch 300, Loss 0.139749\n",
      "Epoch 350, Loss 0.139748\n",
      "Epoch 400, Loss 0.139749\n",
      "Epoch 450, Loss 0.139749\n",
      "Epoch 500, Loss 0.139749\n"
     ]
    }
   ],
   "source": [
    "W = training_loop(n_epochs=500, optimizer=optimizer, W=W, X=X_extended, y=y)"
   ]
  },
  {
   "cell_type": "code",
   "execution_count": 55,
   "metadata": {
    "vscode": {
     "languageId": "python"
    }
   },
   "outputs": [
    {
     "data": {
      "text/plain": [
       "tensor([[2.3978],\n",
       "        [4.0406]], requires_grad=True)"
      ]
     },
     "execution_count": 55,
     "metadata": {},
     "output_type": "execute_result"
    }
   ],
   "source": [
    "W"
   ]
  },
  {
   "cell_type": "code",
   "execution_count": 56,
   "metadata": {
    "vscode": {
     "languageId": "python"
    }
   },
   "outputs": [],
   "source": [
    "y_predicted = model(X_extended, W)"
   ]
  },
  {
   "cell_type": "code",
   "execution_count": 57,
   "metadata": {
    "vscode": {
     "languageId": "python"
    }
   },
   "outputs": [
    {
     "data": {
      "image/png": "[encoded data removed]",
      "text/plain": [
       "<Figure size 640x480 with 1 Axes>"
      ]
     },
     "metadata": {},
     "output_type": "display_data"
    }
   ],
   "source": [
    "# TODO fix - there is no red line on the plot\n",
    "plt.plot(X, y_predicted.detach().numpy(), \"r.\", label=\"Predictions\")\n",
    "plt.plot(X, y, \"b.\", label=\"Data\")\n",
    "\n",
    "plt.xlabel(\"$x_1$\")\n",
    "plt.ylabel(\"$y$\", rotation=0)\n",
    "plt.axis([0, 2, 0, 15])\n",
    "plt.grid()\n",
    "plt.legend(loc=\"upper left\")\n",
    "\n",
    "plt.show()"
   ]
  },
  {
   "cell_type": "code",
   "execution_count": null,
   "metadata": {
    "vscode": {
     "languageId": "python"
    }
   },
   "outputs": [],
   "source": []
  }
 ],
 "metadata": {
  "kernelspec": {
   "display_name": "course_venv",
   "language": "python",
   "name": "course_venv"
  },
  "orig_nbformat": 4,
  "vscode": {
   "interpreter": {
    "hash": "0d66c1e0898f8938310c6b63673de1725d0399a93fea9d3be5101875a8cea5d2"
   }
  }
 },
 "nbformat": 4,
 "nbformat_minor": 2
}
