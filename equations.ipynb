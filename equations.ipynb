{
 "cells": [
  {
   "attachments": {},
   "cell_type": "markdown",
   "metadata": {},
   "source": [
    "$y=\\varphi (\\sum_{j=0}^{m} w_j x_j$)"
   ]
  },
  {
   "attachments": {},
   "cell_type": "markdown",
   "metadata": {},
   "source": [
    "$z=w_0*x_0+w_1*x_1...+w_m*x_m=\\sum_{j=0}^{m} w_j x_j$"
   ]
  },
  {
   "cell_type": "markdown",
   "metadata": {},
   "source": [
    "$y=A(z)$"
   ]
  }
 ],
 "metadata": {
  "kernelspec": {
   "display_name": "course",
   "language": "python",
   "name": "python3"
  },
  "language_info": {
   "name": "python",
   "version": "3.10.9 (tags/v3.10.9:1dd9be6, Dec  6 2022, 20:01:21) [MSC v.1934 64 bit (AMD64)]"
  },
  "orig_nbformat": 4,
  "vscode": {
   "interpreter": {
    "hash": "0d66c1e0898f8938310c6b63673de1725d0399a93fea9d3be5101875a8cea5d2"
   }
  }
 },
 "nbformat": 4,
 "nbformat_minor": 2
}
