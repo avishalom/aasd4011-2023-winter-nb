{
 "cells": [
  {
   "attachments": {},
   "cell_type": "markdown",
   "metadata": {},
   "source": [
    "Useful resources:\n",
    "1. https://pytorch.org/docs/stable/tensors.html (retrieved 2022-12-24, [Github](https://github.com/pytorch/tutorials/blob/d5161086e7277f10c68dd44914f8925fda62f399/beginner_source/blitz/tensor_tutorial.py))\n",
    "2. https://pytorch.org/tutorials/beginner/introyt/tensors_deeper_tutorial.html (retrieved 2022-12-24, [Github](https://github.com/pytorch/tutorials/blob/c2115df8003e6a3aeeb327441ff4d8389576d6f0/beginner_source/introyt/tensors_deeper_tutorial.py))\n",
    "3. Chollete, p.26-47 (for definitions and a Tensorflow implementation)"
   ]
  },
  {
   "cell_type": "code",
   "execution_count": 1,
   "metadata": {},
   "outputs": [],
   "source": [
    "import sys\n",
    "import torch\n",
    "import helpers as h"
   ]
  },
  {
   "cell_type": "code",
   "execution_count": 2,
   "metadata": {},
   "outputs": [
    {
     "name": "stdout",
     "output_type": "stream",
     "text": [
      "pyTorch version: 1.13.1+cpu\n",
      "Python version: 3.10.9 (tags/v3.10.9:1dd9be6, Dec  6 2022, 20:01:21) [MSC v.1934 64 bit (AMD64)]\n"
     ]
    }
   ],
   "source": [
    "h.print_pytorch_version()\n",
    "h.print_python_version()"
   ]
  },
  {
   "attachments": {},
   "cell_type": "markdown",
   "metadata": {},
   "source": [
    "### Initializing Tensors"
   ]
  },
  {
   "attachments": {},
   "cell_type": "markdown",
   "metadata": {},
   "source": [
    "#### Initiailize a rank-1 tensor (vector)"
   ]
  },
  {
   "cell_type": "code",
   "execution_count": 3,
   "metadata": {},
   "outputs": [
    {
     "name": "stdout",
     "output_type": "stream",
     "text": [
      "Tensor       tensor([1., 2.])\n",
      "Type         <class 'torch.Tensor'>\n",
      "dtype        torch.float32\n",
      "Dimension    1\n",
      "Shape        (2,)\n"
     ]
    }
   ],
   "source": [
    "x = torch.tensor([1., 2.])\n",
    "h.print_tensor_info(x)"
   ]
  },
  {
   "attachments": {},
   "cell_type": "markdown",
   "metadata": {},
   "source": [
    "* Tip: Look into the function definition of `h.printing_tensor_info` to see the Tensor's methods and attribures used to display the values above. "
   ]
  },
  {
   "attachments": {},
   "cell_type": "markdown",
   "metadata": {},
   "source": [
    "In PyTorch, each tensor has a `device` associated with it. By default (for constructors such as `torch.tensor`) this device is the CPU. It can also be a GPU. To check for the device a tensor is associated with:"
   ]
  },
  {
   "cell_type": "code",
   "execution_count": 10,
   "metadata": {},
   "outputs": [
    {
     "data": {
      "text/plain": [
       "'cpu'"
      ]
     },
     "execution_count": 10,
     "metadata": {},
     "output_type": "execute_result"
    }
   ],
   "source": [
    "x.device.type"
   ]
  },
  {
   "attachments": {},
   "cell_type": "markdown",
   "metadata": {},
   "source": [
    "Below we define a vector with a single element. Notice the tensor-dimensionality and shape of this tensor:"
   ]
  },
  {
   "cell_type": "code",
   "execution_count": 43,
   "metadata": {},
   "outputs": [
    {
     "name": "stdout",
     "output_type": "stream",
     "text": [
      "Tensor:     tensor([1.])\n",
      "Type:       <class 'torch.Tensor'>\n",
      "dtype:      torch.float32\n",
      "Dimensions: 1\n",
      "Shape:      (1,)\n"
     ]
    }
   ],
   "source": [
    "x = torch.tensor([1.,])\n",
    "h.print_tensor_info(x)"
   ]
  },
  {
   "attachments": {},
   "cell_type": "markdown",
   "metadata": {},
   "source": [
    "#### Initialize a rank-0 tensor (scalar)"
   ]
  },
  {
   "cell_type": "code",
   "execution_count": 37,
   "metadata": {},
   "outputs": [
    {
     "name": "stdout",
     "output_type": "stream",
     "text": [
      "Tensor:     2.5\n",
      "Type:       <class 'torch.Tensor'>\n",
      "dtype:      torch.float32\n",
      "Dimensions: 0\n",
      "Size:       ()\n"
     ]
    }
   ],
   "source": [
    "x = torch.tensor(2.5)\n",
    "h.print_tensor_info(x)"
   ]
  },
  {
   "attachments": {},
   "cell_type": "markdown",
   "metadata": {},
   "source": [
    "#### Initialize a rank-2 tensor (matrix)"
   ]
  },
  {
   "cell_type": "code",
   "execution_count": 45,
   "metadata": {},
   "outputs": [
    {
     "name": "stdout",
     "output_type": "stream",
     "text": [
      "Tensor:     tensor([[1., 2.],\n",
      "        [3., 4.]])\n",
      "Type:       <class 'torch.Tensor'>\n",
      "dtype:      torch.float32\n",
      "Dimensions: 2\n",
      "Shape:      (2, 2)\n"
     ]
    }
   ],
   "source": [
    "x = torch.tensor([[1., 2.],[3., 4.]])\n",
    "h.print_tensor_info(x)"
   ]
  },
  {
   "attachments": {},
   "cell_type": "markdown",
   "metadata": {},
   "source": [
    "#### Initialize a rank-3 tensor"
   ]
  },
  {
   "cell_type": "code",
   "execution_count": 48,
   "metadata": {},
   "outputs": [
    {
     "name": "stdout",
     "output_type": "stream",
     "text": [
      "Tensor:     tensor([[[1.],\n",
      "         [2.]],\n",
      "\n",
      "        [[3.],\n",
      "         [4.]],\n",
      "\n",
      "        [[5.],\n",
      "         [6.]]])\n",
      "Type:       <class 'torch.Tensor'>\n",
      "dtype:      torch.float32\n",
      "Dimensions: 3\n",
      "Shape:      (3, 2, 1)\n"
     ]
    }
   ],
   "source": [
    "x = torch.tensor([\n",
    "    [[1.,],[2.,]],\n",
    "    [[3.,],[4.,]],\n",
    "    [[5.,],[6.,]],\n",
    "    ])\n",
    "h.print_tensor_info(x)"
   ]
  },
  {
   "attachments": {},
   "cell_type": "markdown",
   "metadata": {},
   "source": [
    "Note that even though tensors can have different shapes and dimensions, they are all PyTorch tensors, which means they have the same data type, device, and other metadata. Additionally, they support the same operations and methods, such as elementwise arithmetic, reshaping, and indexing."
   ]
  },
  {
   "attachments": {},
   "cell_type": "markdown",
   "metadata": {},
   "source": [
    "#### Explicitly defining the tensor's data type"
   ]
  },
  {
   "cell_type": "code",
   "execution_count": 6,
   "metadata": {},
   "outputs": [
    {
     "name": "stdout",
     "output_type": "stream",
     "text": [
      "tensor([1.], dtype=torch.float64)\n",
      "<class 'torch.Tensor'>\n",
      "torch.float64\n",
      "1\n",
      "torch.Size([1])\n"
     ]
    }
   ],
   "source": [
    "x = torch.tensor([1.], dtype=torch.double)\n",
    "h.print_tensor_info(x)"
   ]
  },
  {
   "attachments": {},
   "cell_type": "markdown",
   "metadata": {},
   "source": [
    "#### Note"
   ]
  },
  {
   "attachments": {},
   "cell_type": "markdown",
   "metadata": {},
   "source": [
    "You might have seen (or might see) defining a constant tensor by `torch.Tensor` instead of `torch.tensor`. Let's take a quick look:"
   ]
  },
  {
   "cell_type": "code",
   "execution_count": 35,
   "metadata": {},
   "outputs": [
    {
     "name": "stdout",
     "output_type": "stream",
     "text": [
      "Tensor:     tensor([1.])\n",
      "Type:       <class 'torch.Tensor'>\n",
      "dtype:      torch.float32\n",
      "Dimensions: 1\n",
      "Size:       (1,)\n"
     ]
    }
   ],
   "source": [
    "x = torch.Tensor([1.])\n",
    "h.print_tensor_info(x)"
   ]
  },
  {
   "cell_type": "markdown",
   "metadata": {},
   "source": [
    "As you can expect, `torch.tensor` and `torch.Tensor` are not the same. While `torch.tensor` is a constructor, `torch.Tensor` is an alias for the default tensor type (`torch.FloatTensor`). As can be seen below, the first is a function, while the second is a class. You might find it useful to have a quick look at their source (ctrl-left-click on Windows and Linux, or cmd-left-click on Mac; This works on Google's colab as well)"
   ]
  },
  {
   "cell_type": "code",
   "execution_count": 36,
   "metadata": {},
   "outputs": [
    {
     "name": "stdout",
     "output_type": "stream",
     "text": [
      "<class 'builtin_function_or_method'>\n",
      "<class 'torch._C._TensorMeta'>\n"
     ]
    }
   ],
   "source": [
    "print(type(torch.tensor))\n",
    "print(type(torch.Tensor))"
   ]
  },
  {
   "attachments": {},
   "cell_type": "markdown",
   "metadata": {},
   "source": [
    "### Tesor Indexing, Slicing and Assignments"
   ]
  },
  {
   "cell_type": "code",
   "execution_count": 12,
   "metadata": {},
   "outputs": [
    {
     "name": "stdout",
     "output_type": "stream",
     "text": [
      "Tensor       tensor([[[ 1.,  2.],\n",
      "         [ 3.,  4.]],\n",
      "\n",
      "        [[ 5.,  6.],\n",
      "         [ 7.,  8.]],\n",
      "\n",
      "        [[ 9., 10.],\n",
      "         [11., 12.]]])\n",
      "Type         <class 'torch.Tensor'>\n",
      "dtype        torch.float32\n",
      "Dimension    3\n",
      "Shape        (3, 2, 2)\n"
     ]
    }
   ],
   "source": [
    "x = torch.tensor([\n",
    "    [[1., 2.],[3., 4.]],\n",
    "    [[5., 6.],[7., 8.]],\n",
    "    [[9., 10.],[11., 12.]],\n",
    "    ])\n",
    "h.print_tensor_info(x)"
   ]
  },
  {
   "cell_type": "code",
   "execution_count": 13,
   "metadata": {},
   "outputs": [
    {
     "data": {
      "text/plain": [
       "tensor([[1., 2.],\n",
       "        [3., 4.]])"
      ]
     },
     "execution_count": 13,
     "metadata": {},
     "output_type": "execute_result"
    }
   ],
   "source": [
    "x[0]"
   ]
  },
  {
   "cell_type": "code",
   "execution_count": 14,
   "metadata": {},
   "outputs": [
    {
     "data": {
      "text/plain": [
       "tensor(1.)"
      ]
     },
     "execution_count": 14,
     "metadata": {},
     "output_type": "execute_result"
    }
   ],
   "source": [
    "x[0][0][0]"
   ]
  },
  {
   "cell_type": "code",
   "execution_count": 15,
   "metadata": {},
   "outputs": [],
   "source": [
    "x[1,1,1] = 100"
   ]
  },
  {
   "cell_type": "code",
   "execution_count": 16,
   "metadata": {},
   "outputs": [
    {
     "data": {
      "text/plain": [
       "tensor([[[  1.,   2.],\n",
       "         [  3.,   4.]],\n",
       "\n",
       "        [[  5.,   6.],\n",
       "         [  7., 100.]],\n",
       "\n",
       "        [[  9.,  10.],\n",
       "         [ 11.,  12.]]])"
      ]
     },
     "execution_count": 16,
     "metadata": {},
     "output_type": "execute_result"
    }
   ],
   "source": [
    "x"
   ]
  },
  {
   "cell_type": "code",
   "execution_count": 17,
   "metadata": {},
   "outputs": [
    {
     "data": {
      "text/plain": [
       "tensor([[  5.,   6.],\n",
       "        [  7., 100.]])"
      ]
     },
     "execution_count": 17,
     "metadata": {},
     "output_type": "execute_result"
    }
   ],
   "source": [
    "x[1,:,:]"
   ]
  },
  {
   "attachments": {},
   "cell_type": "markdown",
   "metadata": {},
   "source": [
    "### Tensor Arithmetic"
   ]
  },
  {
   "attachments": {},
   "cell_type": "markdown",
   "metadata": {},
   "source": [
    "Arithmetic is the branch of mathematics that deals with the manipulation of numbers and quantities. It includes the study of basic operations such as addition, subtraction, multiplication, and division, as well as more advanced concepts such as square roots, exponentiation, logarithmic functions, and even trigonometric functions and logarithms."
   ]
  },
  {
   "cell_type": "markdown",
   "metadata": {},
   "source": [
    "Let's look at two rank-1 tensors:"
   ]
  },
  {
   "cell_type": "code",
   "execution_count": 74,
   "metadata": {},
   "outputs": [
    {
     "name": "stdout",
     "output_type": "stream",
     "text": [
      "x: tensor([1., 2.])\n",
      "y: tensor([3., 4.])\n"
     ]
    }
   ],
   "source": [
    "x = torch.tensor([1., 2.])\n",
    "y = torch.tensor([3., 4.])\n",
    "print(f'x: {x}')\n",
    "print(f'y: {y}')"
   ]
  },
  {
   "attachments": {},
   "cell_type": "markdown",
   "metadata": {},
   "source": [
    "The four basic operations of arithmetic are element-wise:"
   ]
  },
  {
   "cell_type": "code",
   "execution_count": 65,
   "metadata": {},
   "outputs": [
    {
     "name": "stdout",
     "output_type": "stream",
     "text": [
      "x + y : tensor([4., 6.])\n"
     ]
    }
   ],
   "source": [
    "print(f'x + y : {x + y}')"
   ]
  },
  {
   "cell_type": "code",
   "execution_count": 64,
   "metadata": {},
   "outputs": [
    {
     "name": "stdout",
     "output_type": "stream",
     "text": [
      "x - y : tensor([-2., -2.])\n"
     ]
    }
   ],
   "source": [
    "print(f'x - y : {x - y}')"
   ]
  },
  {
   "cell_type": "code",
   "execution_count": 66,
   "metadata": {},
   "outputs": [
    {
     "name": "stdout",
     "output_type": "stream",
     "text": [
      "x * y : tensor([3., 8.])\n"
     ]
    }
   ],
   "source": [
    "print(f'x * y : {x * y}')"
   ]
  },
  {
   "cell_type": "code",
   "execution_count": 67,
   "metadata": {},
   "outputs": [
    {
     "name": "stdout",
     "output_type": "stream",
     "text": [
      "x / y : tensor([0.3333, 0.5000])\n"
     ]
    }
   ],
   "source": [
    "print(f'x / y : {x / y}')"
   ]
  },
  {
   "attachments": {},
   "cell_type": "markdown",
   "metadata": {},
   "source": [
    "The dot-product:"
   ]
  },
  {
   "cell_type": "code",
   "execution_count": 69,
   "metadata": {},
   "outputs": [
    {
     "data": {
      "text/plain": [
       "tensor(11.)"
      ]
     },
     "execution_count": 69,
     "metadata": {},
     "output_type": "execute_result"
    }
   ],
   "source": [
    "x.dot(y)"
   ]
  },
  {
   "attachments": {},
   "cell_type": "markdown",
   "metadata": {},
   "source": [
    "Matrix Multiplication\n",
    "Looking at the definitions can actually be useful here:\n",
    "https://pytorch.org/docs/stable/generated/torch.matmul.html"
   ]
  },
  {
   "attachments": {},
   "cell_type": "markdown",
   "metadata": {},
   "source": [
    ">If both tensors are 1-dimensional, the dot product (scalar) is returned."
   ]
  },
  {
   "cell_type": "code",
   "execution_count": 78,
   "metadata": {},
   "outputs": [
    {
     "data": {
      "text/plain": [
       "tensor(11.)"
      ]
     },
     "execution_count": 78,
     "metadata": {},
     "output_type": "execute_result"
    }
   ],
   "source": [
    "torch.matmul(x, y)"
   ]
  },
  {
   "attachments": {},
   "cell_type": "markdown",
   "metadata": {},
   "source": [
    "dot product is symmetric:"
   ]
  },
  {
   "cell_type": "code",
   "execution_count": 75,
   "metadata": {},
   "outputs": [
    {
     "data": {
      "text/plain": [
       "tensor(11.)"
      ]
     },
     "execution_count": 75,
     "metadata": {},
     "output_type": "execute_result"
    }
   ],
   "source": [
    "x.matmul(y)"
   ]
  },
  {
   "cell_type": "code",
   "execution_count": 77,
   "metadata": {},
   "outputs": [
    {
     "data": {
      "text/plain": [
       "tensor(11.)"
      ]
     },
     "execution_count": 77,
     "metadata": {},
     "output_type": "execute_result"
    }
   ],
   "source": [
    "y.matmul(x)"
   ]
  },
  {
   "attachments": {},
   "cell_type": "markdown",
   "metadata": {},
   "source": [
    "`@` is an alias of `matmul`:"
   ]
  },
  {
   "cell_type": "code",
   "execution_count": 70,
   "metadata": {},
   "outputs": [
    {
     "data": {
      "text/plain": [
       "tensor(11.)"
      ]
     },
     "execution_count": 70,
     "metadata": {},
     "output_type": "execute_result"
    }
   ],
   "source": [
    "x@y"
   ]
  },
  {
   "cell_type": "markdown",
   "metadata": {},
   "source": [
    ">If both arguments are 2-dimensional, the matrix-matrix product is returned."
   ]
  },
  {
   "cell_type": "code",
   "execution_count": 91,
   "metadata": {},
   "outputs": [
    {
     "name": "stdout",
     "output_type": "stream",
     "text": [
      "tensor([[1., 2.],\n",
      "        [3., 4.]])\n",
      "tensor([[5., 6.],\n",
      "        [7., 8.]])\n"
     ]
    }
   ],
   "source": [
    "x = torch.tensor([[1., 2.],[3., 4.]])\n",
    "y = torch.tensor([[5., 6.],[7., 8.]])\n",
    "print(x)\n",
    "print(y)"
   ]
  },
  {
   "cell_type": "code",
   "execution_count": 90,
   "metadata": {},
   "outputs": [
    {
     "name": "stdout",
     "output_type": "stream",
     "text": [
      "tensor([[19., 22.],\n",
      "        [43., 50.]])\n",
      "torch.Size([2, 2])\n"
     ]
    }
   ],
   "source": [
    "print(torch.matmul(x, y))\n",
    "print(torch.matmul(x, y).shape)"
   ]
  },
  {
   "cell_type": "markdown",
   "metadata": {},
   "source": [
    ">If the first argument is 1-dimensional and the second argument is 2-dimensional, a 1 is prepended to its dimension for the purpose of the matrix multiply. After the matrix multiply, the prepended dimension is removed."
   ]
  },
  {
   "attachments": {},
   "cell_type": "markdown",
   "metadata": {},
   "source": [
    "In other words, the first tensor is boardcasted to the shape of the second tensor."
   ]
  },
  {
   "cell_type": "code",
   "execution_count": 92,
   "metadata": {},
   "outputs": [
    {
     "name": "stdout",
     "output_type": "stream",
     "text": [
      "tensor([1., 2.])\n",
      "tensor([[3., 4.],\n",
      "        [5., 6.]])\n"
     ]
    }
   ],
   "source": [
    "x = torch.tensor([1., 2.])\n",
    "y = torch.tensor([[3., 4.],[5., 6.]])\n",
    "print(x)\n",
    "print(y)"
   ]
  },
  {
   "cell_type": "code",
   "execution_count": 88,
   "metadata": {},
   "outputs": [
    {
     "name": "stdout",
     "output_type": "stream",
     "text": [
      "tensor([13., 16.])\n",
      "torch.Size([2])\n"
     ]
    }
   ],
   "source": [
    "print(torch.matmul(x,y))\n",
    "print(torch.matmul(x,y).shape)"
   ]
  },
  {
   "attachments": {},
   "cell_type": "markdown",
   "metadata": {},
   "source": [
    ">If the first argument is 2-dimensional and the second argument is 1-dimensional, the matrix-vector product is returned."
   ]
  },
  {
   "cell_type": "code",
   "execution_count": 82,
   "metadata": {},
   "outputs": [
    {
     "data": {
      "text/plain": [
       "tensor([23., 34.])"
      ]
     },
     "execution_count": 82,
     "metadata": {},
     "output_type": "execute_result"
    }
   ],
   "source": [
    "torch.matmul(y,x)"
   ]
  },
  {
   "attachments": {},
   "cell_type": "markdown",
   "metadata": {},
   "source": [
    ">If both arguments are at least 1-dimensional and at least one argument is N-dimensional (where N > 2), then a batched matrix multiply is returned. \n",
    ">1. If the first argument is 1-dimensional, a 1 is prepended to its dimension for the purpose of the batched matrix multiply and removed after.\n",
    ">2. If the second argument is 1-dimensional, a 1 is appended to its dimension for the purpose of the batched matrix multiple and removed after.\n",
    ">3. The non-matrix (i.e. batch) dimensions are broadcasted (and thus must be broadcastable). For example, if `input` is a $(j \\times 1 \\times n \\times n)$ tensor and `other` is a $(k \\times n \\times n)$ tensor, `out` will be a $(j \\times k \\times n \\times n)$ tensor.\n",
    "\n",
    ">Note that the broadcasting logic only looks at the batch dimensions when determining if the inputs are broadcastable, and not the matrix dimensions. For example, if `input` is a $(j \\times 1 \\times n \\times m)$ tensor and `other` is a $(k \\times m \\times p)$ tensor, these inputs are valid for broadcasting even though the final two dimensions (i.e. the matrix dimensions) are different. `out` will be a $(j \\times k \\times n \\times p)$ tensor.\n",
    "\n",
    "This is a helpful background:\n",
    "https://pytorch.org/docs/stable/notes/broadcasting.html#broadcasting-semantics"
   ]
  },
  {
   "cell_type": "code",
   "execution_count": 95,
   "metadata": {},
   "outputs": [
    {
     "name": "stdout",
     "output_type": "stream",
     "text": [
      "tensor([1., 2.])\n",
      "1\n",
      "torch.Size([2])\n",
      "tensor([[[ 1.,  2.],\n",
      "         [ 3.,  4.]],\n",
      "\n",
      "        [[ 5.,  6.],\n",
      "         [ 7.,  8.]],\n",
      "\n",
      "        [[ 9., 10.],\n",
      "         [11., 12.]]])\n",
      "3\n",
      "torch.Size([3, 2, 2])\n"
     ]
    }
   ],
   "source": [
    "x = torch.tensor([1., 2.])\n",
    "y = torch.tensor([\n",
    "    [[1., 2.],[3., 4.]],\n",
    "    [[5., 6.],[7., 8.]],\n",
    "    [[9., 10.],[11., 12.]],\n",
    "    ])\n",
    "print(x)\n",
    "print(x.dim())\n",
    "print(x.shape)\n",
    "print(y)\n",
    "print(y.dim())\n",
    "print(y.shape)"
   ]
  },
  {
   "cell_type": "code",
   "execution_count": 97,
   "metadata": {},
   "outputs": [
    {
     "name": "stdout",
     "output_type": "stream",
     "text": [
      "tensor([[ 7., 10.],\n",
      "        [19., 22.],\n",
      "        [31., 34.]])\n",
      "2\n",
      "torch.Size([3, 2])\n"
     ]
    }
   ],
   "source": [
    "print(torch.matmul(x,y))\n",
    "print(torch.matmul(x,y).dim())\n",
    "print(torch.matmul(x,y).shape)"
   ]
  },
  {
   "attachments": {},
   "cell_type": "markdown",
   "metadata": {},
   "source": [
    "As can be seen above, this is a \"dot product broadcast\". The dimension is one less that of `other`"
   ]
  },
  {
   "cell_type": "code",
   "execution_count": 98,
   "metadata": {},
   "outputs": [
    {
     "name": "stdout",
     "output_type": "stream",
     "text": [
      "tensor([[[ 1.,  2.],\n",
      "         [ 3.,  4.]],\n",
      "\n",
      "        [[ 5.,  6.],\n",
      "         [ 7.,  8.]],\n",
      "\n",
      "        [[ 9., 10.],\n",
      "         [11., 12.]]])\n",
      "3\n",
      "torch.Size([3, 2, 2])\n",
      "tensor([1., 2.])\n",
      "1\n",
      "torch.Size([2])\n"
     ]
    }
   ],
   "source": [
    "x = torch.tensor([\n",
    "    [[1., 2.],[3., 4.]],\n",
    "    [[5., 6.],[7., 8.]],\n",
    "    [[9., 10.],[11., 12.]],\n",
    "    ])\n",
    "y = torch.tensor([1., 2.])\n",
    "print(x)\n",
    "print(x.dim())\n",
    "print(x.shape)\n",
    "print(y)\n",
    "print(y.dim())\n",
    "print(y.shape)"
   ]
  },
  {
   "cell_type": "code",
   "execution_count": 99,
   "metadata": {},
   "outputs": [
    {
     "name": "stdout",
     "output_type": "stream",
     "text": [
      "tensor([[ 5., 11.],\n",
      "        [17., 23.],\n",
      "        [29., 35.]])\n",
      "2\n",
      "torch.Size([3, 2])\n"
     ]
    }
   ],
   "source": [
    "print(torch.matmul(x,y))\n",
    "print(torch.matmul(x,y).dim())\n",
    "print(torch.matmul(x,y).shape)"
   ]
  },
  {
   "attachments": {},
   "cell_type": "markdown",
   "metadata": {},
   "source": [
    "Notice that here the \"dot product\" multiplication is done on the first dimension. Unlike the previous case (and as usually defined in math), where dot product is a 'row vector' multiplied by a 'column vector'. "
   ]
  },
  {
   "cell_type": "code",
   "execution_count": 100,
   "metadata": {},
   "outputs": [
    {
     "name": "stdout",
     "output_type": "stream",
     "text": [
      "tensor([[[ 1.,  2.],\n",
      "         [ 3.,  4.]],\n",
      "\n",
      "        [[ 5.,  6.],\n",
      "         [ 7.,  8.]],\n",
      "\n",
      "        [[ 9., 10.],\n",
      "         [11., 12.]]])\n",
      "3\n",
      "torch.Size([3, 2, 2])\n",
      "tensor([[1., 2.],\n",
      "        [3., 4.]])\n",
      "2\n",
      "torch.Size([2, 2])\n"
     ]
    }
   ],
   "source": [
    "x = torch.tensor([\n",
    "    [[1., 2.],[3., 4.]],\n",
    "    [[5., 6.],[7., 8.]],\n",
    "    [[9., 10.],[11., 12.]],\n",
    "    ])\n",
    "y = torch.tensor([[1., 2.],[3., 4.]])\n",
    "print(x)\n",
    "print(x.dim())\n",
    "print(x.shape)\n",
    "print(y)\n",
    "print(y.dim())\n",
    "print(y.shape)"
   ]
  },
  {
   "cell_type": "code",
   "execution_count": 101,
   "metadata": {},
   "outputs": [
    {
     "name": "stdout",
     "output_type": "stream",
     "text": [
      "tensor([[[ 7., 10.],\n",
      "         [15., 22.]],\n",
      "\n",
      "        [[23., 34.],\n",
      "         [31., 46.]],\n",
      "\n",
      "        [[39., 58.],\n",
      "         [47., 70.]]])\n",
      "3\n",
      "torch.Size([3, 2, 2])\n"
     ]
    }
   ],
   "source": [
    "print(torch.matmul(x,y))\n",
    "print(torch.matmul(x,y).dim())\n",
    "print(torch.matmul(x,y).shape)"
   ]
  },
  {
   "cell_type": "code",
   "execution_count": 18,
   "metadata": {},
   "outputs": [],
   "source": [
    "# the section below is based on https://github.com/pytorch/tutorials/blob/d5161086e7277f10c68dd44914f8925fda62f399/beginner_source/blitz/tensor_tutorial.py\n",
    "# See: https://pytorch.org/tutorials/beginner/blitz/tensor_tutorial.html\n",
    "# Presented here in accordance with BSD-3 license"
   ]
  },
  {
   "attachments": {},
   "cell_type": "markdown",
   "metadata": {},
   "source": [
    "#### Tensor Operations\n",
    "\n",
    "Over 100 tensor operations, including transposing, indexing, slicing,\n",
    "mathematical operations, linear algebra, random sampling, and more are\n",
    "comprehensively described [here](https://pytorch.org/docs/stable/torch.html).\n",
    "\n",
    "Each of them can be run on the GPU (at typically higher speeds than on a\n",
    "CPU)."
   ]
  },
  {
   "cell_type": "code",
   "execution_count": 20,
   "metadata": {},
   "outputs": [
    {
     "name": "stdout",
     "output_type": "stream",
     "text": [
      "Device tensor is stored on: cpu\n"
     ]
    }
   ],
   "source": [
    "tensor = torch.ones(4, 4)\n",
    "# We move our tensor to the GPU if available\n",
    "if torch.cuda.is_available():\n",
    "  tensor = tensor.to('cuda')\n",
    "print(f\"Device tensor is stored on: {tensor.device}\")"
   ]
  },
  {
   "attachments": {},
   "cell_type": "markdown",
   "metadata": {},
   "source": [
    "#### In-place operations\n",
    "Operations that have a ``_`` suffix are in-place. For example: ``x.copy_(y)``, ``x.t_()``, will change ``x``.\n",
    "\n",
    "Note: In-place operations save some memory, but can be problematic when computing derivatives because of an immediate loss of history. Hence, their use is discouraged."
   ]
  },
  {
   "cell_type": "code",
   "execution_count": 21,
   "metadata": {},
   "outputs": [
    {
     "name": "stdout",
     "output_type": "stream",
     "text": [
      "tensor([[1., 1., 1., 1.],\n",
      "        [1., 1., 1., 1.],\n",
      "        [1., 1., 1., 1.],\n",
      "        [1., 1., 1., 1.]]) \n",
      "\n",
      "tensor([[6., 6., 6., 6.],\n",
      "        [6., 6., 6., 6.],\n",
      "        [6., 6., 6., 6.],\n",
      "        [6., 6., 6., 6.]])\n"
     ]
    }
   ],
   "source": [
    "print(tensor, \"\\n\")\n",
    "tensor.add_(5)\n",
    "print(tensor)"
   ]
  },
  {
   "attachments": {},
   "cell_type": "markdown",
   "metadata": {},
   "source": [
    "Compare to:"
   ]
  },
  {
   "cell_type": "code",
   "execution_count": 22,
   "metadata": {},
   "outputs": [
    {
     "data": {
      "text/plain": [
       "tensor([[11., 11., 11., 11.],\n",
       "        [11., 11., 11., 11.],\n",
       "        [11., 11., 11., 11.],\n",
       "        [11., 11., 11., 11.]])"
      ]
     },
     "execution_count": 22,
     "metadata": {},
     "output_type": "execute_result"
    }
   ],
   "source": [
    "tensor.add(5)"
   ]
  },
  {
   "cell_type": "code",
   "execution_count": 23,
   "metadata": {},
   "outputs": [
    {
     "name": "stdout",
     "output_type": "stream",
     "text": [
      "tensor([[6., 6., 6., 6.],\n",
      "        [6., 6., 6., 6.],\n",
      "        [6., 6., 6., 6.],\n",
      "        [6., 6., 6., 6.]])\n"
     ]
    }
   ],
   "source": [
    "print(tensor)"
   ]
  },
  {
   "cell_type": "code",
   "execution_count": null,
   "metadata": {},
   "outputs": [],
   "source": []
  }
 ],
 "metadata": {
  "kernelspec": {
   "display_name": "pytorch_course",
   "language": "python",
   "name": "python3"
  },
  "language_info": {
   "codemirror_mode": {
    "name": "ipython",
    "version": 3
   },
   "file_extension": ".py",
   "mimetype": "text/x-python",
   "name": "python",
   "nbconvert_exporter": "python",
   "pygments_lexer": "ipython3",
   "version": "3.10.9 (tags/v3.10.9:1dd9be6, Dec  6 2022, 20:01:21) [MSC v.1934 64 bit (AMD64)]"
  },
  "orig_nbformat": 4,
  "vscode": {
   "interpreter": {
    "hash": "2adf6fb4fb9c4fb4fabaad9b8bc3c077a4c74c345da177b977e5e0ddd0495e5b"
   }
  }
 },
 "nbformat": 4,
 "nbformat_minor": 2
}
