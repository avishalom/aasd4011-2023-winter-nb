{
 "cells": [
  {
   "attachments": {},
   "cell_type": "markdown",
   "metadata": {},
   "source": [
    "In this notebook we are looking into optimizing a linear regression/regressor using gradient descent. \n",
    "The key takeaways are:\n",
    "\n",
    "Conceptual:\n",
    "1. Be able to explain what a gradient descent in two dimensions is. \n",
    "\n",
    "Technical:\n",
    "1. Gain experience with tensor-indexing and tensor arithmetic (e.g. matmul; know the order in which the data is organized into tensors: (batch size, features)\n",
    "2. Get acquinted with exploring the data (represented as tensors), numeracilly and by using Matplotlib. Be able to use Matplotlib to run simple visualization.\n",
    "3. Understand the concepts and terms: forward-pass, backward-pass, training, optimization, weights, nodes/neurons, \n",
    "4. \n"
   ]
  },
  {
   "cell_type": "code",
   "execution_count": 1,
   "metadata": {},
   "outputs": [],
   "source": [
    "import torch\n",
    "import matplotlib.pyplot as plt\n",
    "import helpers as h\n",
    "from math import floor, ceil"
   ]
  },
  {
   "cell_type": "code",
   "execution_count": 2,
   "metadata": {},
   "outputs": [
    {
     "data": {
      "text/plain": [
       "<torch._C.Generator at 0x27ee5881a50>"
      ]
     },
     "execution_count": 2,
     "metadata": {},
     "output_type": "execute_result"
    }
   ],
   "source": [
    "torch.manual_seed(42)"
   ]
  },
  {
   "attachments": {},
   "cell_type": "markdown",
   "metadata": {},
   "source": [
    "### Setting the Data"
   ]
  },
  {
   "cell_type": "code",
   "execution_count": 3,
   "metadata": {},
   "outputs": [],
   "source": [
    "NUMBER_OF_DATA_POINTS = 4\n",
    "X_RANGE = {\n",
    "    'min': 0,\n",
    "    'max': 2\n",
    "}\n",
    "SLOPE = 3\n",
    "INTERCEPT = 4\n",
    "NOISE_RANGE = 1.5\n",
    "m = NUMBER_OF_DATA_POINTS  # number of instances (the number of data-points)\n",
    "\n",
    "def generate_data(\n",
    "    x_range:dict[str, str]=X_RANGE,\n",
    "    number_of_data_points:int=NUMBER_OF_DATA_POINTS,\n",
    "    slope:float=SLOPE,\n",
    "    intercept:float=INTERCEPT,\n",
    "    noise_range:float=NOISE_RANGE\n",
    "    ) -> tuple[torch.Tensor, torch.Tensor]:\n",
    "    \"\"\"\n",
    "    Generates data for linear regression.\n",
    "    \"\"\"\n",
    "    range = X_RANGE['max'] - X_RANGE['min']\n",
    "    X = x_range['min'] + (range * torch.rand(size=(number_of_data_points, 1)))  # randomly-generated x-values, taken from a uniform distribution within `x_range`\n",
    "    y = intercept + (slope * X) + (((torch.rand(size=(number_of_data_points, 1)) - 0.5) * 2) * noise_range)  # y-values with uniformaliy distributed noise added\n",
    "    return X, y\n",
    "\n",
    "def calculate_y_range(\n",
    "    x_range:dict[str, str]=X_RANGE,\n",
    "    slope:float=SLOPE,\n",
    "    intercept:float=INTERCEPT,\n",
    "    noise_range:float=NOISE_RANGE,\n",
    "    ) -> float:\n",
    "    \"\"\"\n",
    "    Calculates the maximum y-value for a given x-range, taking into account the maximum noise.\n",
    "    \"\"\"\n",
    "    y_range = {}\n",
    "    if slope >= 0:\n",
    "        y_range['min'] = intercept + (slope * x_range['min']) - noise_range\n",
    "        y_range['max'] = intercept + (slope * x_range['max']) + noise_range\n",
    "    elif slope < 0:\n",
    "        y_range['min'] = intercept + (slope * x_range['min']) + noise_range\n",
    "        y_range['max'] = intercept + (slope * x_range['max']) - noise_range\n",
    "    return y_range\n",
    "\n",
    "X, y = generate_data()\n",
    "y_range = calculate_y_range()"
   ]
  },
  {
   "cell_type": "code",
   "execution_count": 4,
   "metadata": {},
   "outputs": [
    {
     "name": "stdout",
     "output_type": "stream",
     "text": [
      "Tensor       tensor([[1.7645],\n",
      "        [1.8300],\n",
      "        [0.7657],\n",
      "        [1.9186]])\n",
      "Dimension    2\n",
      "Shape        (4, 1)\n"
     ]
    }
   ],
   "source": [
    "h.print_tensor_info(X, fields=['Tensor', 'Dimension', 'Shape'])"
   ]
  },
  {
   "attachments": {},
   "cell_type": "markdown",
   "metadata": {},
   "source": [
    "The many PyTorch (and Tensorflow) functions expect their input to be in the shape of (batch_size, features). Note that above `X` was defined accordingly. The number of data points (also called instances), is generally always in the 0th dimension. "
   ]
  },
  {
   "cell_type": "code",
   "execution_count": 5,
   "metadata": {},
   "outputs": [
    {
     "name": "stdout",
     "output_type": "stream",
     "text": [
      "Tensor       tensor([[ 8.9650],\n",
      "        [ 9.7927],\n",
      "        [ 5.5669],\n",
      "        [10.6368]])\n",
      "Dimension    2\n",
      "Shape        (4, 1)\n"
     ]
    }
   ],
   "source": [
    "h.print_tensor_info(y, fields=['Tensor', 'Dimension', 'Shape'])"
   ]
  },
  {
   "cell_type": "code",
   "execution_count": 6,
   "metadata": {},
   "outputs": [
    {
     "data": {
      "image/png": "[encoded data removed]",
      "text/plain": [
       "<Figure size 640x480 with 1 Axes>"
      ]
     },
     "metadata": {},
     "output_type": "display_data"
    }
   ],
   "source": [
    "def plot_data_points(X, y):\n",
    "    plt.plot(X, y, \"b.\")\n",
    "    plt.xlabel(\"$x_1$\")\n",
    "    plt.ylabel(\"$y$\", rotation=0)\n",
    "    plt.title(\"Data Points (instances)\")\n",
    "    plt.axis([X_RANGE['min'], X_RANGE['max'], floor(y_range['min']), ceil(y_range['max'])])\n",
    "    plt.grid()\n",
    "    plt.show()\n",
    "    return\n",
    "\n",
    "plot_data_points(X, y)"
   ]
  },
  {
   "attachments": {},
   "cell_type": "markdown",
   "metadata": {},
   "source": [
    "### Preprocessing the Data\n",
    "\n",
    "Now we are adding a dummy input parameter, that is equal to one for all instances: $x_0=1$.\n",
    "This will allow us to use a single matrix multiplication for the equation $y =  w_0*1 + w_1*x_1$. It  is the genric form of a 1-dimensional linear equation. \n",
    "\n",
    "(for additional optional context, see: [scikit-learn](https://scikit-learn.org/stable/modules/generated/sklearn.preprocessing.add_dummy_feature.html))"
   ]
  },
  {
   "cell_type": "code",
   "execution_count": 7,
   "metadata": {},
   "outputs": [],
   "source": [
    "X_extended = torch.cat((torch.full(X.shape, 1), X), 1)"
   ]
  },
  {
   "cell_type": "code",
   "execution_count": 8,
   "metadata": {},
   "outputs": [
    {
     "name": "stdout",
     "output_type": "stream",
     "text": [
      "Tensor       tensor([[1.0000, 1.7645],\n",
      "        [1.0000, 1.8300],\n",
      "        [1.0000, 0.7657],\n",
      "        [1.0000, 1.9186]])\n",
      "Dimension    2\n",
      "Shape        (4, 2)\n"
     ]
    }
   ],
   "source": [
    "h.print_tensor_info(X_extended, fields=['Tensor', 'Dimension', 'Shape'])"
   ]
  },
  {
   "attachments": {},
   "cell_type": "markdown",
   "metadata": {},
   "source": [
    "### Defining the Model\n",
    "With this form of input we can define the parameters: $w_0$ and $w_1$.\n",
    "The equation is $y = w_0*x_0 + w_1*x_1$, or in a matrix notation: $y = X @ W$.\n",
    "It might be helpful to write with PyTorch. "
   ]
  },
  {
   "cell_type": "code",
   "execution_count": 1,
   "metadata": {},
   "outputs": [],
   "source": [
    "def model(X, W):\n",
    "    return X @ W"
   ]
  },
  {
   "attachments": {},
   "cell_type": "markdown",
   "metadata": {},
   "source": [
    "Let's assign values for our parameters, $W$"
   ]
  },
  {
   "cell_type": "code",
   "execution_count": 9,
   "metadata": {},
   "outputs": [],
   "source": [
    "W = torch.tensor([[1.], [2.]])  # usually the parameters are randmoly set\n",
    "# TODO change the above to a random initialization, and see what happens.\n",
    "# Then change it to a zero initialization, and see what happens.\n",
    "# Lastly, try setting it to the mean of the y values, with zero slope."
   ]
  },
  {
   "cell_type": "code",
   "execution_count": 10,
   "metadata": {},
   "outputs": [
    {
     "name": "stdout",
     "output_type": "stream",
     "text": [
      "Tensor       tensor([[1.],\n",
      "        [2.]])\n",
      "Dimension    2\n",
      "Shape        (2, 1)\n"
     ]
    }
   ],
   "source": [
    "h.print_tensor_info(W, fields=['Tensor', 'Dimension', 'Shape'])"
   ]
  },
  {
   "cell_type": "code",
   "execution_count": 11,
   "metadata": {},
   "outputs": [],
   "source": [
    "def predict(X: torch.Tensor, W: torch.Tensor, is_preprocessed=False) -> torch.Tensor:\n",
    "    \"\"\"\n",
    "    Calculates the value of a linear function with parameters W at points X.\n",
    "\n",
    "    X: torch tensor of shape (number_of_points_to_predict, 1)\n",
    "    W: torch tensor of shape (2, 1)\n",
    "    return: torch tensor of shape (number_of_points_to_predict, 1)\n",
    "\n",
    "    \"\"\"\n",
    "    if is_preprocessed:\n",
    "        X_extended = X\n",
    "    else:\n",
    "        X_extended = torch.cat((torch.full(X.shape, 1), X), 1)  # preprocess\n",
    "    y_predicted = model(X_extended, W)\n",
    "    return y_predicted"
   ]
  },
  {
   "cell_type": "code",
   "execution_count": 12,
   "metadata": {},
   "outputs": [],
   "source": [
    "y_predicted = predict(X_extended, W, is_preprocessed=True)"
   ]
  },
  {
   "cell_type": "code",
   "execution_count": 13,
   "metadata": {},
   "outputs": [
    {
     "name": "stdout",
     "output_type": "stream",
     "text": [
      "Tensor       tensor([[4.5291],\n",
      "        [4.6600],\n",
      "        [2.5315],\n",
      "        [4.8372]])\n",
      "Dimension    2\n",
      "Shape        (4, 1)\n"
     ]
    }
   ],
   "source": [
    "h.print_tensor_info(y_predicted, fields=['Tensor', 'Dimension', 'Shape'])"
   ]
  },
  {
   "cell_type": "code",
   "execution_count": 14,
   "metadata": {},
   "outputs": [
    {
     "data": {
      "image/png": "[encoded data removed]",
      "text/plain": [
       "<Figure size 640x480 with 1 Axes>"
      ]
     },
     "metadata": {},
     "output_type": "display_data"
    }
   ],
   "source": [
    "plot_data_points(X, y_predicted)"
   ]
  },
  {
   "attachments": {},
   "cell_type": "markdown",
   "metadata": {},
   "source": [
    "### Setting up a Loss Function\n",
    "We need to define a cost-function - which is the value to be optimized.\n",
    "First let's plot the data points and the predictions on the same graph: "
   ]
  },
  {
   "cell_type": "code",
   "execution_count": 15,
   "metadata": {},
   "outputs": [
    {
     "data": {
      "image/png": "[encoded data removed]",
      "text/plain": [
       "<Figure size 640x480 with 1 Axes>"
      ]
     },
     "metadata": {},
     "output_type": "display_data"
    }
   ],
   "source": [
    "# TODO fix - there is no red line on the plot\n",
    "plt.plot(X, y_predicted, \"r.\", label=\"Predictions\")\n",
    "plt.plot(X, y, \"b.\", label=\"Data\")\n",
    "\n",
    "plt.xlabel(\"$x_1$\")\n",
    "plt.ylabel(\"$y$\", rotation=0)\n",
    "plt.axis([0, 2, 0, 15])\n",
    "plt.grid()\n",
    "plt.legend(loc=\"upper left\")\n",
    "\n",
    "plt.show()"
   ]
  },
  {
   "attachments": {},
   "cell_type": "markdown",
   "metadata": {},
   "source": [
    "The loss function we are going to use is the squared mean error (SME):\n",
    "\n",
    "$L=\\frac{1}{m}*\\sum_{n=1} ^{m} (y_{predicted, n} - y_n)^2$"
   ]
  },
  {
   "cell_type": "code",
   "execution_count": null,
   "metadata": {},
   "outputs": [],
   "source": [
    "def loss(y_predicted, y):\n",
    "    sme = ((y_predicted - y) ** 2).mean()  # squared mean error. This is equivalent to: torch.sum((y_predicted - y)**2)/y.numel()\n",
    "    return sme"
   ]
  },
  {
   "cell_type": "code",
   "execution_count": 16,
   "metadata": {},
   "outputs": [
    {
     "name": "stdout",
     "output_type": "stream",
     "text": [
      "Squared error per instance:\n",
      "tensor([[19.6771],\n",
      "        [26.3445],\n",
      "        [ 9.2139],\n",
      "        [33.6346]])\n"
     ]
    }
   ],
   "source": [
    "# First, demonstrating the calculation of the loss for each instance:\n",
    "print('Squared error per instance:')\n",
    "print((y_predicted - y)**2)"
   ]
  },
  {
   "cell_type": "code",
   "execution_count": 17,
   "metadata": {},
   "outputs": [
    {
     "name": "stdout",
     "output_type": "stream",
     "text": [
      "SME: 22.22\n"
     ]
    }
   ],
   "source": [
    "sme = torch.sum((y_predicted - y)**2)/y.numel()\n",
    "print(f'SME: {sme:.4}')"
   ]
  },
  {
   "cell_type": "code",
   "execution_count": null,
   "metadata": {},
   "outputs": [],
   "source": [
    "sme = loss(y_predicted, y)\n",
    "print(f'SME: {sme:.4}')"
   ]
  },
  {
   "attachments": {},
   "cell_type": "markdown",
   "metadata": {},
   "source": [
    "### Optimization\n",
    "Next we can manually calculate the derivative and use it for gradient descent"
   ]
  },
  {
   "attachments": {},
   "cell_type": "markdown",
   "metadata": {},
   "source": [
    "The cost function per instance is: $(w0 + w_1*x_1 - y)^2$\n",
    "There are two partial derivatives for this equation, one for each of the two parameters:\n",
    "\n",
    "$\\frac{\\partial(F)}{\\partial(w_0)} = 2*(w0 + w_1*x_1 - y)$\n",
    "\n",
    "$\\frac{\\partial(F)}{\\partial(w_1)} = 2*(w0 + w_1*x_1 - y)*x_1$"
   ]
  },
  {
   "attachments": {},
   "cell_type": "markdown",
   "metadata": {},
   "source": [
    "Let's look at these two equations to get some intution. The only difference between the two is the multiplciation by $x_1$ for $\\frac{\\partial(f)}{\\partial(w_1)}$ but not for $\\frac{\\partial(f)}{\\partial(w_0)}$. This make intuitive sense, given that as $x_1$ is larger, a change in the slope ($w_1$) would be more meaningful, it will gain a larger difference for a larger $x_1$ than a smaller one."
   ]
  },
  {
   "cell_type": "code",
   "execution_count": 18,
   "metadata": {},
   "outputs": [],
   "source": [
    "d_w0 = 2*(X_extended @ W - y)\n",
    "d_w1 = 2*(X_extended @ W - y) * X_extended[:, 1].reshape(-1, 1)"
   ]
  },
  {
   "cell_type": "code",
   "execution_count": 19,
   "metadata": {},
   "outputs": [
    {
     "data": {
      "text/plain": [
       "tensor([[ -8.8718],\n",
       "        [-10.2654],\n",
       "        [ -6.0709],\n",
       "        [-11.5991]])"
      ]
     },
     "execution_count": 19,
     "metadata": {},
     "output_type": "execute_result"
    }
   ],
   "source": [
    "d_w0"
   ]
  },
  {
   "cell_type": "code",
   "execution_count": 20,
   "metadata": {},
   "outputs": [
    {
     "data": {
      "text/plain": [
       "tensor([[-15.6546],\n",
       "        [-18.7857],\n",
       "        [ -4.6486],\n",
       "        [-22.2541]])"
      ]
     },
     "execution_count": 20,
     "metadata": {},
     "output_type": "execute_result"
    }
   ],
   "source": [
    "d_w1"
   ]
  },
  {
   "attachments": {},
   "cell_type": "markdown",
   "metadata": {},
   "source": [
    "And to get each partial derivative over all instances:"
   ]
  },
  {
   "cell_type": "code",
   "execution_count": 21,
   "metadata": {},
   "outputs": [
    {
     "name": "stdout",
     "output_type": "stream",
     "text": [
      "d_w0_mean: -9.202\n",
      "d_w1_mean: -15.34\n"
     ]
    }
   ],
   "source": [
    "d_w0_mean = torch.mean(d_w0)\n",
    "d_w1_mean = torch.mean(d_w1)\n",
    "print(f'd_w0_mean: {d_w0_mean:.4}')\n",
    "print(f'd_w1_mean: {d_w1_mean:.4}')"
   ]
  },
  {
   "attachments": {},
   "cell_type": "markdown",
   "metadata": {},
   "source": [
    "Notice that the gradient points to the direction of maximum increase of the loss function. And since the loss need to minimized, the direction to take is that of its opposite. "
   ]
  },
  {
   "attachments": {},
   "cell_type": "markdown",
   "metadata": {},
   "source": [
    "And now we can define a learning rate, which is a multiplier of the gradient"
   ]
  },
  {
   "cell_type": "code",
   "execution_count": 35,
   "metadata": {},
   "outputs": [
    {
     "name": "stdout",
     "output_type": "stream",
     "text": [
      "Learning Rate: 0.02\n"
     ]
    }
   ],
   "source": [
    "lr = 0.02\n",
    "print(f'Learning Rate: {lr:.4}')"
   ]
  },
  {
   "attachments": {},
   "cell_type": "markdown",
   "metadata": {},
   "source": [
    "Before we run the gradient iteratively, let's run the first iteration, and take a look at the value of the parameters, its graphical reporesentation, "
   ]
  },
  {
   "cell_type": "code",
   "execution_count": 23,
   "metadata": {},
   "outputs": [],
   "source": [
    "# TODO: Here we want to simply print W before and after applying the gradients.model\n",
    "# For this, we need to define W_new by _cloning_ the original W. \n",
    "# why is this necessary? Can you explain? \n",
    "# More precisely, what is the difference between `W_new = W`` and `W_new = W.clone()`?\n",
    "W_new = W.clone()"
   ]
  },
  {
   "cell_type": "code",
   "execution_count": 24,
   "metadata": {},
   "outputs": [
    {
     "name": "stdout",
     "output_type": "stream",
     "text": [
      "tensor([[1.],\n",
      "        [2.]])\n",
      "tensor([[1.0920],\n",
      "        [2.1534]])\n"
     ]
    }
   ],
   "source": [
    "W_new[0] = W_new[0] - lr * d_w0_mean\n",
    "W_new[1] = W_new[1] - lr * d_w1_mean\n",
    "print(W)\n",
    "print(W_new)"
   ]
  },
  {
   "cell_type": "code",
   "execution_count": 25,
   "metadata": {},
   "outputs": [],
   "source": [
    "y_predicted = predict(X_extended, W_new, is_preprocessed=True)"
   ]
  },
  {
   "cell_type": "code",
   "execution_count": 26,
   "metadata": {},
   "outputs": [
    {
     "data": {
      "image/png": "[encoded data removed]",
      "text/plain": [
       "<Figure size 640x480 with 1 Axes>"
      ]
     },
     "metadata": {},
     "output_type": "display_data"
    }
   ],
   "source": [
    "# TODO fix - there is no red line on the plot\n",
    "plt.plot(X, y_predicted, \"r.\", label=\"Predictions\")\n",
    "plt.plot(X, y, \"b.\", label=\"Data\")\n",
    "\n",
    "plt.xlabel(\"$x_1$\")\n",
    "plt.ylabel(\"$y$\", rotation=0)\n",
    "plt.axis([0, 2, 0, 15])\n",
    "plt.grid()\n",
    "plt.legend(loc=\"upper left\")\n",
    "\n",
    "plt.show()"
   ]
  },
  {
   "attachments": {},
   "cell_type": "markdown",
   "metadata": {},
   "source": [
    "Now we can run the optimization iteratively. \n",
    "We can save the values of the parameters, and the loss. We can also plot them. "
   ]
  },
  {
   "cell_type": "code",
   "execution_count": 33,
   "metadata": {},
   "outputs": [
    {
     "data": {
      "text/plain": [
       "2.2826645"
      ]
     },
     "execution_count": 33,
     "metadata": {},
     "output_type": "execute_result"
    }
   ],
   "source": [
    "W.numpy()[0][0]"
   ]
  },
  {
   "cell_type": "code",
   "execution_count": 36,
   "metadata": {},
   "outputs": [
    {
     "name": "stdout",
     "output_type": "stream",
     "text": [
      "Epoch 0: SME: 0.1406 W_0: 2.296 W_1: 4.101\n",
      "Epoch 1: SME: 0.1406 W_0: 2.297 W_1: 4.101\n",
      "Epoch 2: SME: 0.1406 W_0: 2.297 W_1: 4.101\n",
      "Epoch 3: SME: 0.1406 W_0: 2.297 W_1: 4.101\n",
      "Epoch 4: SME: 0.1406 W_0: 2.297 W_1: 4.101\n",
      "Epoch 5: SME: 0.1406 W_0: 2.298 W_1: 4.1\n",
      "Epoch 6: SME: 0.1406 W_0: 2.298 W_1: 4.1\n",
      "Epoch 7: SME: 0.1406 W_0: 2.298 W_1: 4.1\n",
      "Epoch 8: SME: 0.1406 W_0: 2.298 W_1: 4.1\n",
      "Epoch 9: SME: 0.1406 W_0: 2.299 W_1: 4.1\n",
      "Epoch 10: SME: 0.1406 W_0: 2.299 W_1: 4.1\n",
      "Epoch 11: SME: 0.1406 W_0: 2.299 W_1: 4.1\n",
      "Epoch 12: SME: 0.1405 W_0: 2.299 W_1: 4.099\n",
      "Epoch 13: SME: 0.1405 W_0: 2.3 W_1: 4.099\n",
      "Epoch 14: SME: 0.1405 W_0: 2.3 W_1: 4.099\n",
      "Epoch 15: SME: 0.1405 W_0: 2.3 W_1: 4.099\n",
      "Epoch 16: SME: 0.1405 W_0: 2.3 W_1: 4.099\n",
      "Epoch 17: SME: 0.1405 W_0: 2.301 W_1: 4.099\n",
      "Epoch 18: SME: 0.1405 W_0: 2.301 W_1: 4.099\n",
      "Epoch 19: SME: 0.1405 W_0: 2.301 W_1: 4.098\n",
      "Epoch 20: SME: 0.1405 W_0: 2.301 W_1: 4.098\n",
      "Epoch 21: SME: 0.1405 W_0: 2.302 W_1: 4.098\n",
      "Epoch 22: SME: 0.1405 W_0: 2.302 W_1: 4.098\n",
      "Epoch 23: SME: 0.1405 W_0: 2.302 W_1: 4.098\n",
      "Epoch 24: SME: 0.1405 W_0: 2.302 W_1: 4.098\n"
     ]
    }
   ],
   "source": [
    "for epoch in range(25):\n",
    "    y_predicted = predict(X_extended, W, is_preprocessed=True)\n",
    "    sme = torch.sum((y_predicted - y)**2)/y.numel()\n",
    "    d_w0_mean = torch.mean(2*(X_extended @ W - y))\n",
    "    d_w1_mean = torch.mean(2*(X_extended @ W - y) * X_extended[:, 1].reshape(-1, 1))\n",
    "    W[0] = W[0] - lr * d_w0_mean\n",
    "    W[1] = W[1] - lr * d_w1_mean\n",
    "    print(f'Epoch {epoch}: SME: {sme:.4} W_0: {W.numpy()[0][0]:.4} W_1: {W.numpy()[1][0]:.4}')"
   ]
  },
  {
   "cell_type": "code",
   "execution_count": 37,
   "metadata": {},
   "outputs": [
    {
     "data": {
      "image/png": "[encoded data removed]",
      "text/plain": [
       "<Figure size 640x480 with 1 Axes>"
      ]
     },
     "metadata": {},
     "output_type": "display_data"
    }
   ],
   "source": [
    "# TODO fix - there is no red line on the plot\n",
    "plt.plot(X, y_predicted, \"r.\", label=\"Predictions\")\n",
    "plt.plot(X, y, \"b.\", label=\"Data\")\n",
    "\n",
    "plt.xlabel(\"$x_1$\")\n",
    "plt.ylabel(\"$y$\", rotation=0)\n",
    "plt.axis([0, 2, 0, 15])\n",
    "plt.grid()\n",
    "plt.legend(loc=\"upper left\")\n",
    "\n",
    "plt.show()"
   ]
  },
  {
   "attachments": {},
   "cell_type": "markdown",
   "metadata": {},
   "source": [
    "It might be interesting to see what happens if we change the learning rate."
   ]
  },
  {
   "attachments": {},
   "cell_type": "markdown",
   "metadata": {},
   "source": [
    "### Note about Alternatives\n",
    "There are other ways to solve a linear regression problem. In fact, thee is an exact method (with computational limitations, that we will review in a moment). It can be useful to compare the result we got to the ideal one (it can be proved mathematically that it is the ideal solution)."
   ]
  },
  {
   "cell_type": "code",
   "execution_count": 10,
   "metadata": {},
   "outputs": [
    {
     "name": "stdout",
     "output_type": "stream",
     "text": [
      "tensor([[3.9489],\n",
      "        [3.5203]])\n",
      "torch.Size([2, 1])\n",
      "2\n"
     ]
    }
   ],
   "source": [
    "ideal_w = torch.inverse(X.T @ X) @ X.T @ y\n",
    "print(ideal_w)\n",
    "print(ideal_w.shape)\n",
    "print(ideal_w.dim())"
   ]
  }
 ],
 "metadata": {
  "kernelspec": {
   "display_name": "course",
   "language": "python",
   "name": "python3"
  },
  "language_info": {
   "codemirror_mode": {
    "name": "ipython",
    "version": 3
   },
   "file_extension": ".py",
   "mimetype": "text/x-python",
   "name": "python",
   "nbconvert_exporter": "python",
   "pygments_lexer": "ipython3",
   "version": "3.10.9 (tags/v3.10.9:1dd9be6, Dec  6 2022, 20:01:21) [MSC v.1934 64 bit (AMD64)]"
  },
  "orig_nbformat": 4,
  "vscode": {
   "interpreter": {
    "hash": "0d66c1e0898f8938310c6b63673de1725d0399a93fea9d3be5101875a8cea5d2"
   }
  }
 },
 "nbformat": 4,
 "nbformat_minor": 2
}
